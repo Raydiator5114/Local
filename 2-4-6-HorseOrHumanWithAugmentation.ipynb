{
  "cells": [
    {
      "cell_type": "markdown",
      "metadata": {
        "id": "view-in-github",
        "colab_type": "text"
      },
      "source": [
        "<a href=\"https://colab.research.google.com/github/Raydiator5114/Local/blob/main/2-4-6-HorseOrHumanWithAugmentation.ipynb\" target=\"_parent\"><img src=\"https://colab.research.google.com/assets/colab-badge.svg\" alt=\"Open In Colab\"/></a>"
      ]
    },
    {
      "cell_type": "code",
      "execution_count": null,
      "metadata": {
        "id": "zX4Kg8DUTKWO"
      },
      "outputs": [],
      "source": [
        "#@title Licensed under the Apache License, Version 2.0 (the \"License\");\n",
        "# you may not use this file except in compliance with the License.\n",
        "# You may obtain a copy of the License at\n",
        "#\n",
        "# https://www.apache.org/licenses/LICENSE-2.0\n",
        "#\n",
        "# Unless required by applicable law or agreed to in writing, software\n",
        "# distributed under the License is distributed on an \"AS IS\" BASIS,\n",
        "# WITHOUT WARRANTIES OR CONDITIONS OF ANY KIND, either express or implied.\n",
        "# See the License for the specific language governing permissions and\n",
        "# limitations under the License."
      ]
    },
    {
      "cell_type": "markdown",
      "metadata": {
        "id": "30GC2JEwL2xj"
      },
      "source": [
        "## Again start by downloading the neccessary data into the Colab Instance"
      ]
    },
    {
      "cell_type": "code",
      "execution_count": 1,
      "metadata": {
        "id": "RXZT2UsyIVe_",
        "outputId": "18e28cd3-5dac-4c40-e2ba-86a9bb541154",
        "colab": {
          "base_uri": "https://localhost:8080/"
        }
      },
      "outputs": [
        {
          "output_type": "stream",
          "name": "stdout",
          "text": [
            "--2024-07-02 18:11:57--  https://storage.googleapis.com/learning-datasets/horse-or-human.zip\n",
            "Resolving storage.googleapis.com (storage.googleapis.com)... 172.217.194.207, 142.250.4.207, 172.253.118.207, ...\n",
            "Connecting to storage.googleapis.com (storage.googleapis.com)|172.217.194.207|:443... connected.\n",
            "HTTP request sent, awaiting response... 200 OK\n",
            "Length: 149574867 (143M) [application/zip]\n",
            "Saving to: ‘/tmp/horse-or-human.zip’\n",
            "\n",
            "/tmp/horse-or-human 100%[===================>] 142.65M  22.5MB/s    in 7.4s    \n",
            "\n",
            "2024-07-02 18:12:04 (19.4 MB/s) - ‘/tmp/horse-or-human.zip’ saved [149574867/149574867]\n",
            "\n",
            "--2024-07-02 18:12:04--  https://storage.googleapis.com/learning-datasets/validation-horse-or-human.zip\n",
            "Resolving storage.googleapis.com (storage.googleapis.com)... 172.217.194.207, 142.250.4.207, 172.253.118.207, ...\n",
            "Connecting to storage.googleapis.com (storage.googleapis.com)|172.217.194.207|:443... connected.\n",
            "HTTP request sent, awaiting response... 200 OK\n",
            "Length: 11480187 (11M) [application/zip]\n",
            "Saving to: ‘/tmp/validation-horse-or-human.zip’\n",
            "\n",
            "/tmp/validation-hor 100%[===================>]  10.95M  6.44MB/s    in 1.7s    \n",
            "\n",
            "2024-07-02 18:12:06 (6.44 MB/s) - ‘/tmp/validation-horse-or-human.zip’ saved [11480187/11480187]\n",
            "\n"
          ]
        }
      ],
      "source": [
        "!wget --no-check-certificate \\\n",
        "    https://storage.googleapis.com/learning-datasets/horse-or-human.zip \\\n",
        "    -O /tmp/horse-or-human.zip\n",
        "\n",
        "!wget --no-check-certificate \\\n",
        "    https://storage.googleapis.com/learning-datasets/validation-horse-or-human.zip \\\n",
        "    -O /tmp/validation-horse-or-human.zip"
      ]
    },
    {
      "cell_type": "code",
      "execution_count": 2,
      "metadata": {
        "id": "PLy3pthUS0D2"
      },
      "outputs": [],
      "source": [
        "import os\n",
        "import zipfile\n",
        "\n",
        "local_zip = '/tmp/horse-or-human.zip'\n",
        "zip_ref = zipfile.ZipFile(local_zip, 'r')\n",
        "zip_ref.extractall('/tmp/horse-or-human')\n",
        "local_zip = '/tmp/validation-horse-or-human.zip'\n",
        "zip_ref = zipfile.ZipFile(local_zip, 'r')\n",
        "zip_ref.extractall('/tmp/validation-horse-or-human')\n",
        "zip_ref.close()"
      ]
    },
    {
      "cell_type": "code",
      "execution_count": 3,
      "metadata": {
        "id": "E_-A0q1QL2xk",
        "outputId": "fd8cf703-66b1-4559-9c63-a613a9d9f1a5",
        "colab": {
          "base_uri": "https://localhost:8080/"
        }
      },
      "outputs": [
        {
          "output_type": "stream",
          "name": "stdout",
          "text": [
            "['horse42-1.png', 'horse16-3.png', 'horse05-1.png', 'horse31-6.png', 'horse11-8.png', 'horse23-9.png', 'horse25-5.png', 'horse20-2.png', 'horse06-3.png', 'horse19-4.png']\n",
            "['human14-29.png', 'human11-16.png', 'human01-00.png', 'human01-27.png', 'human16-15.png', 'human13-14.png', 'human12-19.png', 'human01-14.png', 'human15-29.png', 'human16-28.png']\n",
            "['horse1-170.png', 'horse2-368.png', 'horse3-498.png', 'horse6-218.png', 'horse4-072.png', 'horse4-389.png', 'horse4-302.png', 'horse5-002.png', 'horse5-478.png', 'horse6-064.png']\n",
            "['valhuman04-19.png', 'valhuman01-18.png', 'valhuman04-21.png', 'valhuman02-14.png', 'valhuman05-03.png', 'valhuman02-00.png', 'valhuman02-10.png', 'valhuman03-23.png', 'valhuman01-17.png', 'valhuman03-10.png']\n"
          ]
        }
      ],
      "source": [
        "# Directory with our training horse pictures\n",
        "train_horse_dir = os.path.join('/tmp/horse-or-human/horses')\n",
        "# Directory with our training human pictures\n",
        "train_human_dir = os.path.join('/tmp/horse-or-human/humans')\n",
        "# Directory with our training horse pictures\n",
        "validation_horse_dir = os.path.join('/tmp/validation-horse-or-human/horses')\n",
        "# Directory with our training human pictures\n",
        "validation_human_dir = os.path.join('/tmp/validation-horse-or-human/humans')\n",
        "train_horse_names = os.listdir('/tmp/horse-or-human/horses')\n",
        "print(train_horse_names[:10])\n",
        "train_human_names = os.listdir('/tmp/horse-or-human/humans')\n",
        "print(train_human_names[:10])\n",
        "validation_horse_hames = os.listdir('/tmp/validation-horse-or-human/horses')\n",
        "print(validation_horse_hames[:10])\n",
        "validation_human_names = os.listdir('/tmp/validation-horse-or-human/humans')\n",
        "print(validation_human_names[:10])"
      ]
    },
    {
      "cell_type": "code",
      "execution_count": 4,
      "metadata": {
        "id": "qvfZg3LQbD-5"
      },
      "outputs": [],
      "source": [
        "import sys\n",
        "import tensorflow as tf\n",
        "\n",
        "# This script requires TensorFlow 2 and Python 3.\n",
        "if tf.__version__.split('.')[0] != '2':\n",
        "    raise Exception((f\"The script is developed and tested for tensorflow 2. \"\n",
        "                     f\"Current version: {tf.__version__}\"))\n",
        "\n",
        "if sys.version_info.major < 3:\n",
        "    raise Exception((f\"The script is developed and tested for Python 3. \"\n",
        "                     f\"Current version: {sys.version_info.major}\"))"
      ]
    },
    {
      "cell_type": "markdown",
      "metadata": {
        "id": "2DFi8qSIL2xl"
      },
      "source": [
        "## Then again define your model and optimizer"
      ]
    },
    {
      "cell_type": "code",
      "execution_count": 5,
      "metadata": {
        "id": "PixZ2s5QbYQ3"
      },
      "outputs": [],
      "source": [
        "model = tf.keras.models.Sequential([\n",
        "    # Note the input shape is the desired size of the image 100x100 with 3 bytes color\n",
        "    # This is the first convolution\n",
        "    tf.keras.layers.Conv2D(32, (3,3), activation='relu', input_shape=(100, 100, 3)),\n",
        "    tf.keras.layers.MaxPooling2D(2, 2),\n",
        "    # The second convolution\n",
        "    tf.keras.layers.Conv2D(64, (3,3), activation='relu'),\n",
        "    tf.keras.layers.MaxPooling2D(2,2),\n",
        "    # The third convolution\n",
        "    tf.keras.layers.Conv2D(128, (3,3), activation='relu'),\n",
        "    tf.keras.layers.MaxPooling2D(2,2),\n",
        "    # The fourth convolution\n",
        "    tf.keras.layers.Conv2D(256, (3,3), activation='relu'),\n",
        "    tf.keras.layers.MaxPooling2D(2,2),\n",
        "    # Flatten the results to feed into a DNN\n",
        "    tf.keras.layers.Flatten(),\n",
        "    # 512 neuron hidden layer\n",
        "    tf.keras.layers.Dense(512, activation='relu'),\n",
        "    tf.keras.layers.Dense(256, activation='relu'),\n",
        "    # Only 1 output neuron. It will contain a value from 0-1 where 0 for 1 class ('horses') and 1 for the other ('humans')\n",
        "    tf.keras.layers.Dense(1, activation='sigmoid')\n",
        "])"
      ]
    },
    {
      "cell_type": "code",
      "execution_count": 6,
      "metadata": {
        "id": "FCO9TvtOPtH7",
        "outputId": "1748e0e3-ad29-4b64-f9c6-e4bbd18756f1",
        "colab": {
          "base_uri": "https://localhost:8080/"
        }
      },
      "outputs": [
        {
          "output_type": "stream",
          "name": "stdout",
          "text": [
            "Model: \"sequential\"\n",
            "_________________________________________________________________\n",
            " Layer (type)                Output Shape              Param #   \n",
            "=================================================================\n",
            " conv2d (Conv2D)             (None, 98, 98, 32)        896       \n",
            "                                                                 \n",
            " max_pooling2d (MaxPooling2  (None, 49, 49, 32)        0         \n",
            " D)                                                              \n",
            "                                                                 \n",
            " conv2d_1 (Conv2D)           (None, 47, 47, 64)        18496     \n",
            "                                                                 \n",
            " max_pooling2d_1 (MaxPoolin  (None, 23, 23, 64)        0         \n",
            " g2D)                                                            \n",
            "                                                                 \n",
            " conv2d_2 (Conv2D)           (None, 21, 21, 128)       73856     \n",
            "                                                                 \n",
            " max_pooling2d_2 (MaxPoolin  (None, 10, 10, 128)       0         \n",
            " g2D)                                                            \n",
            "                                                                 \n",
            " conv2d_3 (Conv2D)           (None, 8, 8, 256)         295168    \n",
            "                                                                 \n",
            " max_pooling2d_3 (MaxPoolin  (None, 4, 4, 256)         0         \n",
            " g2D)                                                            \n",
            "                                                                 \n",
            " flatten (Flatten)           (None, 4096)              0         \n",
            "                                                                 \n",
            " dense (Dense)               (None, 512)               2097664   \n",
            "                                                                 \n",
            " dense_1 (Dense)             (None, 256)               131328    \n",
            "                                                                 \n",
            " dense_2 (Dense)             (None, 1)                 257       \n",
            "                                                                 \n",
            "=================================================================\n",
            "Total params: 2617665 (9.99 MB)\n",
            "Trainable params: 2617665 (9.99 MB)\n",
            "Non-trainable params: 0 (0.00 Byte)\n",
            "_________________________________________________________________\n",
            "None\n"
          ]
        }
      ],
      "source": [
        "print(model.summary())"
      ]
    },
    {
      "cell_type": "code",
      "execution_count": 7,
      "metadata": {
        "id": "8DHWhFP_uhq3",
        "outputId": "635b5761-fcbd-4a63-b9f5-10c3f5ec29fd",
        "colab": {
          "base_uri": "https://localhost:8080/"
        }
      },
      "outputs": [
        {
          "output_type": "stream",
          "name": "stderr",
          "text": [
            "WARNING:absl:`lr` is deprecated in Keras optimizer, please use `learning_rate` or use the legacy optimizer, e.g.,tf.keras.optimizers.legacy.Adam.\n"
          ]
        }
      ],
      "source": [
        "from tensorflow.keras.optimizers import RMSprop\n",
        "optimizer = tf.keras.optimizers.Adam(lr=0.0001)\n",
        "model.compile(loss='binary_crossentropy',\n",
        "              optimizer=optimizer,\n",
        "              metrics=['acc'])"
      ]
    },
    {
      "cell_type": "markdown",
      "metadata": {
        "id": "wKYbRjx8L2xl"
      },
      "source": [
        "## Now when we organize the data into Generators note how we use many more kinds of Data Augmentation!"
      ]
    },
    {
      "cell_type": "code",
      "execution_count": 8,
      "metadata": {
        "id": "ClebU9NJg99G",
        "outputId": "85a949bc-0409-4bf5-ebec-82bccf299287",
        "colab": {
          "base_uri": "https://localhost:8080/"
        }
      },
      "outputs": [
        {
          "output_type": "stream",
          "name": "stdout",
          "text": [
            "Found 1027 images belonging to 2 classes.\n",
            "Found 256 images belonging to 2 classes.\n"
          ]
        }
      ],
      "source": [
        "from tensorflow.keras.preprocessing.image import ImageDataGenerator\n",
        "\n",
        "# All images will be augmented wiht the full list of augmentation techniques below\n",
        "train_datagen = ImageDataGenerator(\n",
        "      rescale=1./255,\n",
        "      rotation_range=20,\n",
        "      width_shift_range=0.2,\n",
        "      height_shift_range=0.2,\n",
        "      shear_range=0.2,\n",
        "      zoom_range=0.2,\n",
        "      horizontal_flip=True,\n",
        "      fill_mode='nearest'\n",
        "      )\n",
        "\n",
        "# Flow training images in batches of 128 using train_datagen generator\n",
        "train_generator = train_datagen.flow_from_directory(\n",
        "        '/tmp/horse-or-human/',  # This is the source directory for training images\n",
        "        target_size=(100, 100),  # All images will be resized to 300x300\n",
        "        batch_size=128,\n",
        "        # Since we use binary_crossentropy loss, we need binary labels\n",
        "        class_mode='binary')\n",
        "\n",
        "validation_datagen = ImageDataGenerator(rescale=1./255)\n",
        "\n",
        "validation_generator = validation_datagen.flow_from_directory(\n",
        "        '/tmp/validation-horse-or-human',\n",
        "        target_size=(100, 100),\n",
        "        class_mode='binary')\n"
      ]
    },
    {
      "cell_type": "markdown",
      "metadata": {
        "id": "LcGH0D3CL2xm"
      },
      "source": [
        "## Train your model with the new augmented data\n",
        "Since we now have more data due to the data augmentation this training process will take a bit longer than the last time. However, you'll find that the results are much better!"
      ]
    },
    {
      "cell_type": "code",
      "execution_count": 9,
      "metadata": {
        "id": "Fb1_lgobv81m",
        "outputId": "b0fcee1a-123e-4e3e-e059-affbe6da82b9",
        "colab": {
          "base_uri": "https://localhost:8080/"
        }
      },
      "outputs": [
        {
          "output_type": "stream",
          "name": "stdout",
          "text": [
            "Epoch 1/100\n",
            "8/8 [==============================] - 15s 938ms/step - loss: 0.7503 - acc: 0.4527 - val_loss: 0.6940 - val_acc: 0.5000\n",
            "Epoch 2/100\n",
            "8/8 [==============================] - 9s 1s/step - loss: 0.6911 - acc: 0.4850 - val_loss: 0.6878 - val_acc: 0.5000\n",
            "Epoch 3/100\n",
            "8/8 [==============================] - 9s 1s/step - loss: 0.6876 - acc: 0.4861 - val_loss: 0.6853 - val_acc: 0.7539\n",
            "Epoch 4/100\n",
            "8/8 [==============================] - 7s 930ms/step - loss: 0.6514 - acc: 0.6340 - val_loss: 0.7231 - val_acc: 0.5000\n",
            "Epoch 5/100\n",
            "8/8 [==============================] - 8s 936ms/step - loss: 0.6298 - acc: 0.6263 - val_loss: 1.1276 - val_acc: 0.5000\n",
            "Epoch 6/100\n",
            "8/8 [==============================] - 8s 1s/step - loss: 0.5892 - acc: 0.6541 - val_loss: 0.4916 - val_acc: 0.7852\n",
            "Epoch 7/100\n",
            "8/8 [==============================] - 9s 1s/step - loss: 0.5828 - acc: 0.7164 - val_loss: 1.5958 - val_acc: 0.5156\n",
            "Epoch 8/100\n",
            "8/8 [==============================] - 8s 935ms/step - loss: 0.5196 - acc: 0.7052 - val_loss: 0.5492 - val_acc: 0.6836\n",
            "Epoch 9/100\n",
            "8/8 [==============================] - 9s 1s/step - loss: 0.4603 - acc: 0.7697 - val_loss: 1.3700 - val_acc: 0.5703\n",
            "Epoch 10/100\n",
            "8/8 [==============================] - 8s 1s/step - loss: 0.4206 - acc: 0.8087 - val_loss: 1.6238 - val_acc: 0.6250\n",
            "Epoch 11/100\n",
            "8/8 [==============================] - 8s 1s/step - loss: 0.6781 - acc: 0.6785 - val_loss: 0.5993 - val_acc: 0.6836\n",
            "Epoch 12/100\n",
            "8/8 [==============================] - 8s 1s/step - loss: 0.5844 - acc: 0.7130 - val_loss: 0.7807 - val_acc: 0.5000\n",
            "Epoch 13/100\n",
            "8/8 [==============================] - 8s 1s/step - loss: 0.5131 - acc: 0.7152 - val_loss: 2.0328 - val_acc: 0.5000\n",
            "Epoch 14/100\n",
            "8/8 [==============================] - 9s 1s/step - loss: 0.5172 - acc: 0.7286 - val_loss: 0.7390 - val_acc: 0.5195\n",
            "Epoch 15/100\n",
            "8/8 [==============================] - 8s 959ms/step - loss: 0.4752 - acc: 0.7564 - val_loss: 0.8933 - val_acc: 0.5234\n",
            "Epoch 16/100\n",
            "8/8 [==============================] - 8s 1s/step - loss: 0.5051 - acc: 0.7820 - val_loss: 1.5206 - val_acc: 0.5039\n",
            "Epoch 17/100\n",
            "8/8 [==============================] - 8s 1s/step - loss: 0.4499 - acc: 0.7764 - val_loss: 0.8322 - val_acc: 0.6562\n",
            "Epoch 18/100\n",
            "8/8 [==============================] - 8s 970ms/step - loss: 0.4013 - acc: 0.8053 - val_loss: 1.6182 - val_acc: 0.5781\n",
            "Epoch 19/100\n",
            "8/8 [==============================] - 9s 1s/step - loss: 0.3390 - acc: 0.8509 - val_loss: 1.8423 - val_acc: 0.6211\n",
            "Epoch 20/100\n",
            "8/8 [==============================] - 8s 1s/step - loss: 0.2454 - acc: 0.8999 - val_loss: 2.7654 - val_acc: 0.5273\n",
            "Epoch 21/100\n",
            "8/8 [==============================] - 8s 1s/step - loss: 0.2257 - acc: 0.9032 - val_loss: 1.4040 - val_acc: 0.6133\n",
            "Epoch 22/100\n",
            "8/8 [==============================] - 9s 1s/step - loss: 0.1937 - acc: 0.9219 - val_loss: 2.8957 - val_acc: 0.5508\n",
            "Epoch 23/100\n",
            "8/8 [==============================] - 8s 1s/step - loss: 0.1444 - acc: 0.9511 - val_loss: 3.1934 - val_acc: 0.5352\n",
            "Epoch 24/100\n",
            "8/8 [==============================] - 9s 1s/step - loss: 0.1474 - acc: 0.9477 - val_loss: 3.4732 - val_acc: 0.5156\n",
            "Epoch 25/100\n",
            "8/8 [==============================] - 8s 984ms/step - loss: 0.1630 - acc: 0.9321 - val_loss: 1.1779 - val_acc: 0.7305\n",
            "Epoch 26/100\n",
            "8/8 [==============================] - 8s 1s/step - loss: 0.1324 - acc: 0.9482 - val_loss: 1.6378 - val_acc: 0.6562\n",
            "Epoch 27/100\n",
            "8/8 [==============================] - 8s 972ms/step - loss: 0.0995 - acc: 0.9677 - val_loss: 3.0719 - val_acc: 0.5625\n",
            "Epoch 28/100\n",
            "8/8 [==============================] - 9s 1s/step - loss: 0.0911 - acc: 0.9711 - val_loss: 3.2942 - val_acc: 0.6172\n",
            "Epoch 29/100\n",
            "8/8 [==============================] - 9s 1s/step - loss: 0.2342 - acc: 0.8975 - val_loss: 1.9896 - val_acc: 0.6016\n",
            "Epoch 30/100\n",
            "8/8 [==============================] - 10s 1s/step - loss: 0.1186 - acc: 0.9622 - val_loss: 2.0586 - val_acc: 0.5820\n",
            "Epoch 31/100\n",
            "8/8 [==============================] - 7s 925ms/step - loss: 0.0756 - acc: 0.9766 - val_loss: 3.4537 - val_acc: 0.5859\n",
            "Epoch 32/100\n",
            "8/8 [==============================] - 9s 1s/step - loss: 0.0570 - acc: 0.9844 - val_loss: 2.1128 - val_acc: 0.6836\n",
            "Epoch 33/100\n",
            "8/8 [==============================] - 9s 1s/step - loss: 0.0680 - acc: 0.9733 - val_loss: 2.4909 - val_acc: 0.6992\n",
            "Epoch 34/100\n",
            "8/8 [==============================] - 8s 1s/step - loss: 0.0329 - acc: 0.9900 - val_loss: 2.2562 - val_acc: 0.7500\n",
            "Epoch 35/100\n",
            "8/8 [==============================] - 8s 978ms/step - loss: 0.0425 - acc: 0.9833 - val_loss: 2.0189 - val_acc: 0.7344\n",
            "Epoch 36/100\n",
            "8/8 [==============================] - 9s 1s/step - loss: 0.0305 - acc: 0.9922 - val_loss: 4.0352 - val_acc: 0.6016\n",
            "Epoch 37/100\n",
            "8/8 [==============================] - 9s 1s/step - loss: 0.0759 - acc: 0.9689 - val_loss: 0.1667 - val_acc: 0.9570\n",
            "Epoch 38/100\n",
            "8/8 [==============================] - 9s 1s/step - loss: 0.4270 - acc: 0.8443 - val_loss: 0.2332 - val_acc: 0.9297\n",
            "Epoch 39/100\n",
            "8/8 [==============================] - 8s 957ms/step - loss: 0.2713 - acc: 0.8843 - val_loss: 0.4810 - val_acc: 0.8164\n",
            "Epoch 40/100\n",
            "8/8 [==============================] - 8s 1s/step - loss: 0.1996 - acc: 0.9277 - val_loss: 1.2905 - val_acc: 0.7305\n",
            "Epoch 41/100\n",
            "8/8 [==============================] - 8s 1s/step - loss: 0.0928 - acc: 0.9633 - val_loss: 1.4414 - val_acc: 0.7891\n",
            "Epoch 42/100\n",
            "8/8 [==============================] - 8s 974ms/step - loss: 0.0974 - acc: 0.9655 - val_loss: 1.8441 - val_acc: 0.7227\n",
            "Epoch 43/100\n",
            "8/8 [==============================] - 8s 970ms/step - loss: 0.1035 - acc: 0.9655 - val_loss: 1.7044 - val_acc: 0.7422\n",
            "Epoch 44/100\n",
            "8/8 [==============================] - 8s 944ms/step - loss: 0.1349 - acc: 0.9577 - val_loss: 1.8310 - val_acc: 0.6055\n",
            "Epoch 45/100\n",
            "8/8 [==============================] - 9s 1s/step - loss: 0.1150 - acc: 0.9522 - val_loss: 1.6909 - val_acc: 0.7578\n",
            "Epoch 46/100\n",
            "8/8 [==============================] - 9s 1s/step - loss: 0.1432 - acc: 0.9443 - val_loss: 1.0649 - val_acc: 0.8828\n",
            "Epoch 47/100\n",
            "8/8 [==============================] - 8s 1s/step - loss: 0.0780 - acc: 0.9700 - val_loss: 1.7471 - val_acc: 0.7656\n",
            "Epoch 48/100\n",
            "8/8 [==============================] - 8s 980ms/step - loss: 0.1338 - acc: 0.9544 - val_loss: 0.6447 - val_acc: 0.8672\n",
            "Epoch 49/100\n",
            "8/8 [==============================] - 8s 936ms/step - loss: 0.0867 - acc: 0.9711 - val_loss: 1.1831 - val_acc: 0.7812\n",
            "Epoch 50/100\n",
            "8/8 [==============================] - 9s 1s/step - loss: 0.0528 - acc: 0.9844 - val_loss: 1.6998 - val_acc: 0.7109\n",
            "Epoch 51/100\n",
            "8/8 [==============================] - 9s 1s/step - loss: 0.0540 - acc: 0.9789 - val_loss: 2.0462 - val_acc: 0.6875\n",
            "Epoch 52/100\n",
            "8/8 [==============================] - 8s 948ms/step - loss: 0.0332 - acc: 0.9867 - val_loss: 2.1384 - val_acc: 0.7109\n",
            "Epoch 53/100\n",
            "8/8 [==============================] - 9s 1s/step - loss: 0.0500 - acc: 0.9854 - val_loss: 1.0724 - val_acc: 0.8477\n",
            "Epoch 54/100\n",
            "8/8 [==============================] - 9s 1s/step - loss: 0.0599 - acc: 0.9778 - val_loss: 1.7769 - val_acc: 0.7422\n",
            "Epoch 55/100\n",
            "8/8 [==============================] - 8s 1s/step - loss: 0.0249 - acc: 0.9944 - val_loss: 2.5665 - val_acc: 0.6523\n",
            "Epoch 56/100\n",
            "8/8 [==============================] - 7s 932ms/step - loss: 0.0628 - acc: 0.9755 - val_loss: 1.0930 - val_acc: 0.8281\n",
            "Epoch 57/100\n",
            "8/8 [==============================] - 7s 928ms/step - loss: 0.0514 - acc: 0.9811 - val_loss: 1.6319 - val_acc: 0.7500\n",
            "Epoch 58/100\n",
            "8/8 [==============================] - 8s 1s/step - loss: 0.0442 - acc: 0.9889 - val_loss: 1.9315 - val_acc: 0.7305\n",
            "Epoch 59/100\n",
            "8/8 [==============================] - 8s 1s/step - loss: 0.0284 - acc: 0.9889 - val_loss: 1.7155 - val_acc: 0.7695\n",
            "Epoch 60/100\n",
            "8/8 [==============================] - 9s 1s/step - loss: 0.0187 - acc: 0.9956 - val_loss: 1.9629 - val_acc: 0.7695\n",
            "Epoch 61/100\n",
            "8/8 [==============================] - 8s 968ms/step - loss: 0.0196 - acc: 0.9933 - val_loss: 2.7172 - val_acc: 0.7266\n",
            "Epoch 62/100\n",
            "8/8 [==============================] - 9s 1s/step - loss: 0.0153 - acc: 0.9944 - val_loss: 2.1451 - val_acc: 0.7773\n",
            "Epoch 63/100\n",
            "8/8 [==============================] - 8s 1s/step - loss: 0.0210 - acc: 0.9933 - val_loss: 1.8041 - val_acc: 0.8008\n",
            "Epoch 64/100\n",
            "8/8 [==============================] - 7s 925ms/step - loss: 0.0163 - acc: 0.9967 - val_loss: 2.1329 - val_acc: 0.7734\n",
            "Epoch 65/100\n",
            "8/8 [==============================] - 8s 1s/step - loss: 0.0206 - acc: 0.9967 - val_loss: 1.9918 - val_acc: 0.8086\n",
            "Epoch 66/100\n",
            "8/8 [==============================] - 9s 1s/step - loss: 0.0120 - acc: 0.9944 - val_loss: 2.5011 - val_acc: 0.7461\n",
            "Epoch 67/100\n",
            "8/8 [==============================] - 9s 1s/step - loss: 0.0259 - acc: 0.9922 - val_loss: 2.2413 - val_acc: 0.7617\n",
            "Epoch 68/100\n",
            "8/8 [==============================] - 9s 1s/step - loss: 0.0235 - acc: 0.9944 - val_loss: 1.9508 - val_acc: 0.7656\n",
            "Epoch 69/100\n",
            "8/8 [==============================] - 8s 967ms/step - loss: 0.0197 - acc: 0.9922 - val_loss: 2.1605 - val_acc: 0.7539\n",
            "Epoch 70/100\n",
            "8/8 [==============================] - 8s 1s/step - loss: 0.0125 - acc: 0.9967 - val_loss: 2.1990 - val_acc: 0.7734\n",
            "Epoch 71/100\n",
            "8/8 [==============================] - 8s 1s/step - loss: 0.0195 - acc: 0.9933 - val_loss: 3.3185 - val_acc: 0.7070\n",
            "Epoch 72/100\n",
            "8/8 [==============================] - 8s 949ms/step - loss: 0.0272 - acc: 0.9922 - val_loss: 1.5842 - val_acc: 0.8242\n",
            "Epoch 73/100\n",
            "8/8 [==============================] - 8s 1s/step - loss: 0.0214 - acc: 0.9967 - val_loss: 2.6285 - val_acc: 0.7070\n",
            "Epoch 74/100\n",
            "8/8 [==============================] - 9s 1s/step - loss: 0.0192 - acc: 0.9933 - val_loss: 2.3669 - val_acc: 0.7383\n",
            "Epoch 75/100\n",
            "8/8 [==============================] - 9s 1s/step - loss: 0.0172 - acc: 0.9967 - val_loss: 2.9989 - val_acc: 0.6953\n",
            "Epoch 76/100\n",
            "8/8 [==============================] - 9s 1s/step - loss: 0.0103 - acc: 0.9989 - val_loss: 2.9404 - val_acc: 0.7070\n",
            "Epoch 77/100\n",
            "8/8 [==============================] - 8s 954ms/step - loss: 0.0141 - acc: 0.9922 - val_loss: 1.5454 - val_acc: 0.8320\n",
            "Epoch 78/100\n",
            "8/8 [==============================] - 9s 1s/step - loss: 0.0259 - acc: 0.9932 - val_loss: 3.3793 - val_acc: 0.6914\n",
            "Epoch 79/100\n",
            "8/8 [==============================] - 9s 1s/step - loss: 0.0222 - acc: 0.9932 - val_loss: 2.3206 - val_acc: 0.7578\n",
            "Epoch 80/100\n",
            "8/8 [==============================] - 7s 928ms/step - loss: 0.0177 - acc: 0.9967 - val_loss: 2.2467 - val_acc: 0.7656\n",
            "Epoch 81/100\n",
            "8/8 [==============================] - 9s 1s/step - loss: 0.0168 - acc: 0.9944 - val_loss: 2.3060 - val_acc: 0.7617\n",
            "Epoch 82/100\n",
            "8/8 [==============================] - 8s 1s/step - loss: 0.0125 - acc: 0.9956 - val_loss: 2.9653 - val_acc: 0.7305\n",
            "Epoch 83/100\n",
            "8/8 [==============================] - 8s 998ms/step - loss: 0.0127 - acc: 0.9961 - val_loss: 2.3023 - val_acc: 0.7891\n",
            "Epoch 84/100\n",
            "8/8 [==============================] - 9s 1s/step - loss: 0.0149 - acc: 0.9967 - val_loss: 2.7385 - val_acc: 0.7422\n",
            "Epoch 85/100\n",
            "8/8 [==============================] - 9s 1s/step - loss: 0.0227 - acc: 0.9922 - val_loss: 2.6050 - val_acc: 0.7344\n",
            "Epoch 86/100\n",
            "8/8 [==============================] - 8s 1s/step - loss: 0.0867 - acc: 0.9766 - val_loss: 4.6455 - val_acc: 0.5469\n",
            "Epoch 87/100\n",
            "8/8 [==============================] - 8s 960ms/step - loss: 0.3855 - acc: 0.8676 - val_loss: 0.4183 - val_acc: 0.8164\n",
            "Epoch 88/100\n",
            "8/8 [==============================] - 9s 1s/step - loss: 0.4567 - acc: 0.7909 - val_loss: 0.4808 - val_acc: 0.7773\n",
            "Epoch 89/100\n",
            "8/8 [==============================] - 8s 1s/step - loss: 0.3641 - acc: 0.8476 - val_loss: 0.7569 - val_acc: 0.7969\n",
            "Epoch 90/100\n",
            "8/8 [==============================] - 7s 924ms/step - loss: 0.3178 - acc: 0.8643 - val_loss: 0.7197 - val_acc: 0.8164\n",
            "Epoch 91/100\n",
            "8/8 [==============================] - 8s 975ms/step - loss: 0.2446 - acc: 0.9043 - val_loss: 1.4000 - val_acc: 0.7852\n",
            "Epoch 92/100\n",
            "8/8 [==============================] - 10s 1s/step - loss: 0.2184 - acc: 0.9160 - val_loss: 1.0547 - val_acc: 0.8164\n",
            "Epoch 93/100\n",
            "8/8 [==============================] - 9s 1s/step - loss: 0.1345 - acc: 0.9566 - val_loss: 1.4249 - val_acc: 0.7891\n",
            "Epoch 94/100\n",
            "8/8 [==============================] - 7s 1s/step - loss: 0.2552 - acc: 0.9021 - val_loss: 1.5359 - val_acc: 0.7070\n",
            "Epoch 95/100\n",
            "8/8 [==============================] - 9s 1s/step - loss: 0.1330 - acc: 0.9561 - val_loss: 1.4532 - val_acc: 0.7656\n",
            "Epoch 96/100\n",
            "8/8 [==============================] - 8s 1s/step - loss: 0.0784 - acc: 0.9711 - val_loss: 1.5179 - val_acc: 0.8359\n",
            "Epoch 97/100\n",
            "8/8 [==============================] - 9s 1s/step - loss: 0.0501 - acc: 0.9814 - val_loss: 1.6948 - val_acc: 0.8242\n",
            "Epoch 98/100\n",
            "8/8 [==============================] - 8s 977ms/step - loss: 0.0551 - acc: 0.9789 - val_loss: 1.2962 - val_acc: 0.8594\n",
            "Epoch 99/100\n",
            "8/8 [==============================] - 8s 1s/step - loss: 0.0434 - acc: 0.9855 - val_loss: 2.0126 - val_acc: 0.8047\n",
            "Epoch 100/100\n",
            "8/8 [==============================] - 8s 1s/step - loss: 0.0470 - acc: 0.9844 - val_loss: 2.8472 - val_acc: 0.7539\n"
          ]
        }
      ],
      "source": [
        "history = model.fit(\n",
        "      train_generator,\n",
        "      steps_per_epoch=8,\n",
        "      epochs=100,\n",
        "      verbose=1,\n",
        "      validation_data=validation_generator)"
      ]
    },
    {
      "cell_type": "markdown",
      "metadata": {
        "id": "o6vSHzPR2ghH"
      },
      "source": [
        "## Try Running the Model Again\n",
        "\n",
        "Can you confuse it this time? Or did the extra data augmentation help the model generalize? What do you think it was about your confusing examples that are no longer confusing (or what is still confusing)?"
      ]
    },
    {
      "cell_type": "code",
      "execution_count": 10,
      "metadata": {
        "id": "DoWp43WxJDNT",
        "outputId": "e2bceaf2-34aa-460f-cb59-87bd4f169efc",
        "colab": {
          "base_uri": "https://localhost:8080/",
          "height": 142
        }
      },
      "outputs": [
        {
          "output_type": "display_data",
          "data": {
            "text/plain": [
              "<IPython.core.display.HTML object>"
            ],
            "text/html": [
              "\n",
              "     <input type=\"file\" id=\"files-e2c96b27-7c4f-4172-bf45-cea89530bbe8\" name=\"files[]\" multiple disabled\n",
              "        style=\"border:none\" />\n",
              "     <output id=\"result-e2c96b27-7c4f-4172-bf45-cea89530bbe8\">\n",
              "      Upload widget is only available when the cell has been executed in the\n",
              "      current browser session. Please rerun this cell to enable.\n",
              "      </output>\n",
              "      <script>// Copyright 2017 Google LLC\n",
              "//\n",
              "// Licensed under the Apache License, Version 2.0 (the \"License\");\n",
              "// you may not use this file except in compliance with the License.\n",
              "// You may obtain a copy of the License at\n",
              "//\n",
              "//      http://www.apache.org/licenses/LICENSE-2.0\n",
              "//\n",
              "// Unless required by applicable law or agreed to in writing, software\n",
              "// distributed under the License is distributed on an \"AS IS\" BASIS,\n",
              "// WITHOUT WARRANTIES OR CONDITIONS OF ANY KIND, either express or implied.\n",
              "// See the License for the specific language governing permissions and\n",
              "// limitations under the License.\n",
              "\n",
              "/**\n",
              " * @fileoverview Helpers for google.colab Python module.\n",
              " */\n",
              "(function(scope) {\n",
              "function span(text, styleAttributes = {}) {\n",
              "  const element = document.createElement('span');\n",
              "  element.textContent = text;\n",
              "  for (const key of Object.keys(styleAttributes)) {\n",
              "    element.style[key] = styleAttributes[key];\n",
              "  }\n",
              "  return element;\n",
              "}\n",
              "\n",
              "// Max number of bytes which will be uploaded at a time.\n",
              "const MAX_PAYLOAD_SIZE = 100 * 1024;\n",
              "\n",
              "function _uploadFiles(inputId, outputId) {\n",
              "  const steps = uploadFilesStep(inputId, outputId);\n",
              "  const outputElement = document.getElementById(outputId);\n",
              "  // Cache steps on the outputElement to make it available for the next call\n",
              "  // to uploadFilesContinue from Python.\n",
              "  outputElement.steps = steps;\n",
              "\n",
              "  return _uploadFilesContinue(outputId);\n",
              "}\n",
              "\n",
              "// This is roughly an async generator (not supported in the browser yet),\n",
              "// where there are multiple asynchronous steps and the Python side is going\n",
              "// to poll for completion of each step.\n",
              "// This uses a Promise to block the python side on completion of each step,\n",
              "// then passes the result of the previous step as the input to the next step.\n",
              "function _uploadFilesContinue(outputId) {\n",
              "  const outputElement = document.getElementById(outputId);\n",
              "  const steps = outputElement.steps;\n",
              "\n",
              "  const next = steps.next(outputElement.lastPromiseValue);\n",
              "  return Promise.resolve(next.value.promise).then((value) => {\n",
              "    // Cache the last promise value to make it available to the next\n",
              "    // step of the generator.\n",
              "    outputElement.lastPromiseValue = value;\n",
              "    return next.value.response;\n",
              "  });\n",
              "}\n",
              "\n",
              "/**\n",
              " * Generator function which is called between each async step of the upload\n",
              " * process.\n",
              " * @param {string} inputId Element ID of the input file picker element.\n",
              " * @param {string} outputId Element ID of the output display.\n",
              " * @return {!Iterable<!Object>} Iterable of next steps.\n",
              " */\n",
              "function* uploadFilesStep(inputId, outputId) {\n",
              "  const inputElement = document.getElementById(inputId);\n",
              "  inputElement.disabled = false;\n",
              "\n",
              "  const outputElement = document.getElementById(outputId);\n",
              "  outputElement.innerHTML = '';\n",
              "\n",
              "  const pickedPromise = new Promise((resolve) => {\n",
              "    inputElement.addEventListener('change', (e) => {\n",
              "      resolve(e.target.files);\n",
              "    });\n",
              "  });\n",
              "\n",
              "  const cancel = document.createElement('button');\n",
              "  inputElement.parentElement.appendChild(cancel);\n",
              "  cancel.textContent = 'Cancel upload';\n",
              "  const cancelPromise = new Promise((resolve) => {\n",
              "    cancel.onclick = () => {\n",
              "      resolve(null);\n",
              "    };\n",
              "  });\n",
              "\n",
              "  // Wait for the user to pick the files.\n",
              "  const files = yield {\n",
              "    promise: Promise.race([pickedPromise, cancelPromise]),\n",
              "    response: {\n",
              "      action: 'starting',\n",
              "    }\n",
              "  };\n",
              "\n",
              "  cancel.remove();\n",
              "\n",
              "  // Disable the input element since further picks are not allowed.\n",
              "  inputElement.disabled = true;\n",
              "\n",
              "  if (!files) {\n",
              "    return {\n",
              "      response: {\n",
              "        action: 'complete',\n",
              "      }\n",
              "    };\n",
              "  }\n",
              "\n",
              "  for (const file of files) {\n",
              "    const li = document.createElement('li');\n",
              "    li.append(span(file.name, {fontWeight: 'bold'}));\n",
              "    li.append(span(\n",
              "        `(${file.type || 'n/a'}) - ${file.size} bytes, ` +\n",
              "        `last modified: ${\n",
              "            file.lastModifiedDate ? file.lastModifiedDate.toLocaleDateString() :\n",
              "                                    'n/a'} - `));\n",
              "    const percent = span('0% done');\n",
              "    li.appendChild(percent);\n",
              "\n",
              "    outputElement.appendChild(li);\n",
              "\n",
              "    const fileDataPromise = new Promise((resolve) => {\n",
              "      const reader = new FileReader();\n",
              "      reader.onload = (e) => {\n",
              "        resolve(e.target.result);\n",
              "      };\n",
              "      reader.readAsArrayBuffer(file);\n",
              "    });\n",
              "    // Wait for the data to be ready.\n",
              "    let fileData = yield {\n",
              "      promise: fileDataPromise,\n",
              "      response: {\n",
              "        action: 'continue',\n",
              "      }\n",
              "    };\n",
              "\n",
              "    // Use a chunked sending to avoid message size limits. See b/62115660.\n",
              "    let position = 0;\n",
              "    do {\n",
              "      const length = Math.min(fileData.byteLength - position, MAX_PAYLOAD_SIZE);\n",
              "      const chunk = new Uint8Array(fileData, position, length);\n",
              "      position += length;\n",
              "\n",
              "      const base64 = btoa(String.fromCharCode.apply(null, chunk));\n",
              "      yield {\n",
              "        response: {\n",
              "          action: 'append',\n",
              "          file: file.name,\n",
              "          data: base64,\n",
              "        },\n",
              "      };\n",
              "\n",
              "      let percentDone = fileData.byteLength === 0 ?\n",
              "          100 :\n",
              "          Math.round((position / fileData.byteLength) * 100);\n",
              "      percent.textContent = `${percentDone}% done`;\n",
              "\n",
              "    } while (position < fileData.byteLength);\n",
              "  }\n",
              "\n",
              "  // All done.\n",
              "  yield {\n",
              "    response: {\n",
              "      action: 'complete',\n",
              "    }\n",
              "  };\n",
              "}\n",
              "\n",
              "scope.google = scope.google || {};\n",
              "scope.google.colab = scope.google.colab || {};\n",
              "scope.google.colab._files = {\n",
              "  _uploadFiles,\n",
              "  _uploadFilesContinue,\n",
              "};\n",
              "})(self);\n",
              "</script> "
            ]
          },
          "metadata": {}
        },
        {
          "output_type": "stream",
          "name": "stdout",
          "text": [
            "Saving n-removebg-preview.png to n-removebg-preview.png\n",
            "1/1 [==============================] - 0s 359ms/step\n",
            "[[3.6418495e-08]]\n",
            "[3.6418495e-08]\n",
            "n-removebg-preview.png is a horse\n"
          ]
        }
      ],
      "source": [
        "import numpy as np\n",
        "from google.colab import files\n",
        "from tensorflow.keras.utils import load_img, img_to_array\n",
        "\n",
        "uploaded = files.upload()\n",
        "\n",
        "for fn in uploaded.keys():\n",
        "\n",
        "  # predicting images\n",
        "  path = '/content/' + fn\n",
        "  img = load_img(path, target_size=(100, 100))\n",
        "  x = img_to_array(img)\n",
        "  x = x / 255.0\n",
        "  x = np.expand_dims(x, axis=0)\n",
        "\n",
        "  image_tensor = np.vstack([x])\n",
        "  classes = model.predict(image_tensor)\n",
        "  print(classes)\n",
        "  print(classes[0])\n",
        "  if classes[0]>0.5:\n",
        "    print(fn + \" is a human\")\n",
        "  else:\n",
        "    print(fn + \" is a horse\")"
      ]
    },
    {
      "cell_type": "markdown",
      "metadata": {
        "id": "DzVJDupFL2xm"
      },
      "source": [
        "## Finally again lets visualize some of the layers for intuition"
      ]
    },
    {
      "cell_type": "code",
      "execution_count": 11,
      "metadata": {
        "id": "xV_9ZT7CL2xn",
        "outputId": "738c131e-d3ec-412a-9c98-58472af0cc19",
        "colab": {
          "base_uri": "https://localhost:8080/",
          "height": 1000
        }
      },
      "outputs": [
        {
          "output_type": "stream",
          "name": "stdout",
          "text": [
            "1/1 [==============================] - 0s 92ms/step\n"
          ]
        },
        {
          "output_type": "stream",
          "name": "stderr",
          "text": [
            "<ipython-input-11-b8d57963b6aa>:49: RuntimeWarning: invalid value encountered in divide\n",
            "  x /= x.std()\n",
            "<ipython-input-11-b8d57963b6aa>:52: RuntimeWarning: invalid value encountered in cast\n",
            "  x = np.clip(x, 0, 255).astype('uint8')\n"
          ]
        },
        {
          "output_type": "display_data",
          "data": {
            "text/plain": [
              "<Figure size 2000x400 with 1 Axes>"
            ],
            "image/png": "[encoded data removed]"
          },
          "metadata": {}
        },
        {
          "output_type": "display_data",
          "data": {
            "text/plain": [
              "<Figure size 2000x400 with 1 Axes>"
            ],
            "image/png": "[encoded data removed]"
          },
          "metadata": {}
        },
        {
          "output_type": "display_data",
          "data": {
            "text/plain": [
              "<Figure size 2000x400 with 1 Axes>"
            ],
            "image/png": "[encoded data removed]"
          },
          "metadata": {}
        },
        {
          "output_type": "display_data",
          "data": {
            "text/plain": [
              "<Figure size 2000x400 with 1 Axes>"
            ],
            "image/png": "[encoded data removed]"
          },
          "metadata": {}
        },
        {
          "output_type": "display_data",
          "data": {
            "text/plain": [
              "<Figure size 2000x400 with 1 Axes>"
            ],
            "image/png": "[encoded data removed]"
          },
          "metadata": {}
        },
        {
          "output_type": "display_data",
          "data": {
            "text/plain": [
              "<Figure size 2000x400 with 1 Axes>"
            ],
            "image/png": "[encoded data removed]"
          },
          "metadata": {}
        },
        {
          "output_type": "display_data",
          "data": {
            "text/plain": [
              "<Figure size 2000x400 with 1 Axes>"
            ],
            "image/png": "[encoded data removed]"
          },
          "metadata": {}
        }
      ],
      "source": [
        "import random\n",
        "import numpy as np\n",
        "from tensorflow.keras.preprocessing.image import img_to_array, load_img\n",
        "\n",
        "%matplotlib inline\n",
        "\n",
        "import matplotlib.pyplot as plt\n",
        "import matplotlib.image as mpimg\n",
        "\n",
        "# Let's define a new Model that will take an image as input, and will output\n",
        "# intermediate representations for all layers in the previous model after the first.\n",
        "successive_outputs = [layer.output for layer in model.layers[1:]]\n",
        "visualization_model = tf.keras.models.Model(inputs = model.input, outputs = successive_outputs)\n",
        "# Let's prepare a random input image from the training set.\n",
        "horse_img_files = [os.path.join(train_horse_dir, f) for f in train_horse_names]\n",
        "human_img_files = [os.path.join(train_human_dir, f) for f in train_human_names]\n",
        "img_path = random.choice(horse_img_files + human_img_files)\n",
        "# uncomment the following line if you want to pick the Xth human file manually\n",
        "# img_path = human_img_files[0]\n",
        "\n",
        "img = load_img(img_path, target_size=(100, 100))  # this is a PIL image\n",
        "x = img_to_array(img)  # Numpy array with shape (100, 100, 3)\n",
        "x = x.reshape((1,) + x.shape)  # Numpy array with shape (1, 100, 100, 3)\n",
        "\n",
        "# Rescale by 1/255\n",
        "x /= 255.0\n",
        "\n",
        "# Let's run our image through our network, thus obtaining all\n",
        "# intermediate representations for this image.\n",
        "successive_feature_maps = visualization_model.predict(x)\n",
        "\n",
        "# These are the names of the layers, so can have them as part of our plot\n",
        "layer_names = [layer.name for layer in model.layers[1:]]\n",
        "\n",
        "# Now let's display our representations\n",
        "for layer_name, feature_map in zip(layer_names, successive_feature_maps):\n",
        "  if len(feature_map.shape) == 4:\n",
        "    # Just do this for the conv / maxpool layers, not the fully-connected layers\n",
        "    n_features = feature_map.shape[-1]  # number of features in feature map\n",
        "    n_features = min(n_features,5) # limit to 5 features for easier viewing\n",
        "    # The feature map has shape (1, size, size, n_features)\n",
        "    size = feature_map.shape[1]\n",
        "    # We will tile our images in this matrix\n",
        "    display_grid = np.zeros((size, size * n_features))\n",
        "    for i in range(n_features):\n",
        "      # Postprocess the feature to make it visually palatable\n",
        "      x = feature_map[0, :, :, i]\n",
        "      x -= x.mean()\n",
        "      x /= x.std()\n",
        "      x *= 64\n",
        "      x += 128\n",
        "      x = np.clip(x, 0, 255).astype('uint8')\n",
        "      # We'll tile each filter into this big horizontal grid\n",
        "      display_grid[:, i * size : (i + 1) * size] = x\n",
        "    # Display the grid\n",
        "    scale = 20. / n_features\n",
        "    plt.figure(figsize=(scale * n_features, scale))\n",
        "    #plt.title(layer_name)\n",
        "    plt.grid(False)\n",
        "    plt.imshow(display_grid, aspect='auto', cmap='viridis')"
      ]
    },
    {
      "cell_type": "markdown",
      "metadata": {
        "id": "j4IBgYCYooGD"
      },
      "source": [
        "## Clean Up\n",
        "\n",
        "Before running the next exercise, run the following cell to terminate the kernel and free memory resources:"
      ]
    },
    {
      "cell_type": "code",
      "execution_count": null,
      "metadata": {
        "id": "651IgjLyo-Jx"
      },
      "outputs": [],
      "source": [
        "import os, signal\n",
        "os.kill(os.getpid(), signal.SIGKILL)"
      ]
    }
  ],
  "metadata": {
    "accelerator": "GPU",
    "colab": {
      "machine_shape": "hm",
      "name": "2-4-6-HorseOrHumanWithAugmentation",
      "provenance": [],
      "include_colab_link": true
    },
    "kernelspec": {
      "display_name": "Python 3",
      "language": "python",
      "name": "python3"
    },
    "language_info": {
      "codemirror_mode": {
        "name": "ipython",
        "version": 3
      },
      "file_extension": ".py",
      "mimetype": "text/x-python",
      "name": "python",
      "nbconvert_exporter": "python",
      "pygments_lexer": "ipython3",
      "version": "3.6.9"
    }
  },
  "nbformat": 4,
  "nbformat_minor": 0
}